{
  "nbformat": 4,
  "nbformat_minor": 0,
  "metadata": {
    "colab": {
      "provenance": []
    },
    "kernelspec": {
      "name": "python3",
      "display_name": "Python 3"
    },
    "language_info": {
      "name": "python"
    }
  },
  "cells": [
    {
      "cell_type": "code",
      "execution_count": 1,
      "metadata": {
        "colab": {
          "base_uri": "https://localhost:8080/"
        },
        "id": "s6LOw9dgwtbx",
        "outputId": "98dd508b-06ea-4679-b66b-0a953f9cb3a7"
      },
      "outputs": [
        {
          "output_type": "stream",
          "name": "stdout",
          "text": [
            "Requirement already satisfied: google-generativeai in /usr/local/lib/python3.10/dist-packages (0.5.2)\n",
            "Requirement already satisfied: google-ai-generativelanguage==0.6.2 in /usr/local/lib/python3.10/dist-packages (from google-generativeai) (0.6.2)\n",
            "Requirement already satisfied: google-api-core in /usr/local/lib/python3.10/dist-packages (from google-generativeai) (2.11.1)\n",
            "Requirement already satisfied: google-api-python-client in /usr/local/lib/python3.10/dist-packages (from google-generativeai) (2.84.0)\n",
            "Requirement already satisfied: google-auth>=2.15.0 in /usr/local/lib/python3.10/dist-packages (from google-generativeai) (2.27.0)\n",
            "Requirement already satisfied: protobuf in /usr/local/lib/python3.10/dist-packages (from google-generativeai) (3.20.3)\n",
            "Requirement already satisfied: pydantic in /usr/local/lib/python3.10/dist-packages (from google-generativeai) (2.7.0)\n",
            "Requirement already satisfied: tqdm in /usr/local/lib/python3.10/dist-packages (from google-generativeai) (4.66.2)\n",
            "Requirement already satisfied: typing-extensions in /usr/local/lib/python3.10/dist-packages (from google-generativeai) (4.11.0)\n",
            "Requirement already satisfied: proto-plus<2.0.0dev,>=1.22.3 in /usr/local/lib/python3.10/dist-packages (from google-ai-generativelanguage==0.6.2->google-generativeai) (1.23.0)\n",
            "Requirement already satisfied: cachetools<6.0,>=2.0.0 in /usr/local/lib/python3.10/dist-packages (from google-auth>=2.15.0->google-generativeai) (5.3.3)\n",
            "Requirement already satisfied: pyasn1-modules>=0.2.1 in /usr/local/lib/python3.10/dist-packages (from google-auth>=2.15.0->google-generativeai) (0.4.0)\n",
            "Requirement already satisfied: rsa<5,>=3.1.4 in /usr/local/lib/python3.10/dist-packages (from google-auth>=2.15.0->google-generativeai) (4.9)\n",
            "Requirement already satisfied: googleapis-common-protos<2.0.dev0,>=1.56.2 in /usr/local/lib/python3.10/dist-packages (from google-api-core->google-generativeai) (1.63.0)\n",
            "Requirement already satisfied: requests<3.0.0.dev0,>=2.18.0 in /usr/local/lib/python3.10/dist-packages (from google-api-core->google-generativeai) (2.31.0)\n",
            "Requirement already satisfied: httplib2<1dev,>=0.15.0 in /usr/local/lib/python3.10/dist-packages (from google-api-python-client->google-generativeai) (0.22.0)\n",
            "Requirement already satisfied: google-auth-httplib2>=0.1.0 in /usr/local/lib/python3.10/dist-packages (from google-api-python-client->google-generativeai) (0.1.1)\n",
            "Requirement already satisfied: uritemplate<5,>=3.0.1 in /usr/local/lib/python3.10/dist-packages (from google-api-python-client->google-generativeai) (4.1.1)\n",
            "Requirement already satisfied: annotated-types>=0.4.0 in /usr/local/lib/python3.10/dist-packages (from pydantic->google-generativeai) (0.6.0)\n",
            "Requirement already satisfied: pydantic-core==2.18.1 in /usr/local/lib/python3.10/dist-packages (from pydantic->google-generativeai) (2.18.1)\n",
            "Requirement already satisfied: grpcio<2.0dev,>=1.33.2 in /usr/local/lib/python3.10/dist-packages (from google-api-core->google-generativeai) (1.62.2)\n",
            "Requirement already satisfied: grpcio-status<2.0.dev0,>=1.33.2 in /usr/local/lib/python3.10/dist-packages (from google-api-core->google-generativeai) (1.48.2)\n",
            "Requirement already satisfied: pyparsing!=3.0.0,!=3.0.1,!=3.0.2,!=3.0.3,<4,>=2.4.2 in /usr/local/lib/python3.10/dist-packages (from httplib2<1dev,>=0.15.0->google-api-python-client->google-generativeai) (3.1.2)\n",
            "Requirement already satisfied: pyasn1<0.7.0,>=0.4.6 in /usr/local/lib/python3.10/dist-packages (from pyasn1-modules>=0.2.1->google-auth>=2.15.0->google-generativeai) (0.6.0)\n",
            "Requirement already satisfied: charset-normalizer<4,>=2 in /usr/local/lib/python3.10/dist-packages (from requests<3.0.0.dev0,>=2.18.0->google-api-core->google-generativeai) (3.3.2)\n",
            "Requirement already satisfied: idna<4,>=2.5 in /usr/local/lib/python3.10/dist-packages (from requests<3.0.0.dev0,>=2.18.0->google-api-core->google-generativeai) (3.7)\n",
            "Requirement already satisfied: urllib3<3,>=1.21.1 in /usr/local/lib/python3.10/dist-packages (from requests<3.0.0.dev0,>=2.18.0->google-api-core->google-generativeai) (2.0.7)\n",
            "Requirement already satisfied: certifi>=2017.4.17 in /usr/local/lib/python3.10/dist-packages (from requests<3.0.0.dev0,>=2.18.0->google-api-core->google-generativeai) (2024.2.2)\n"
          ]
        }
      ],
      "source": [
        "!pip install -U google-generativeai\n",
        "import google.generativeai as genai\n",
        "from google.colab import userdata"
      ]
    },
    {
      "cell_type": "code",
      "source": [
        "\n",
        "GOOGLE_API_KEY=userdata.get('GOOGLE_API_KEY')\n",
        "genai.configure(api_key=GOOGLE_API_KEY)\n"
      ],
      "metadata": {
        "id": "WslheFWjzlB5"
      },
      "execution_count": 3,
      "outputs": []
    },
    {
      "cell_type": "code",
      "source": [
        "for m in genai.list_models():\n",
        "  if 'generateContent' in m.supported_generation_methods:\n",
        "    print(m.name)"
      ],
      "metadata": {
        "colab": {
          "base_uri": "https://localhost:8080/",
          "height": 139
        },
        "id": "QaTkwHjgz3WZ",
        "outputId": "cbd991c9-8872-425f-82c8-15290b17d75e"
      },
      "execution_count": 4,
      "outputs": [
        {
          "output_type": "stream",
          "name": "stdout",
          "text": [
            "models/gemini-1.0-pro\n",
            "models/gemini-1.0-pro-001\n",
            "models/gemini-1.0-pro-latest\n",
            "models/gemini-1.0-pro-vision-latest\n",
            "models/gemini-1.5-pro-latest\n",
            "models/gemini-pro\n",
            "models/gemini-pro-vision\n"
          ]
        }
      ]
    },
    {
      "cell_type": "code",
      "source": [
        "model = genai.GenerativeModel('gemini-1.0-pro')\n"
      ],
      "metadata": {
        "id": "65eMhjUTz9kR"
      },
      "execution_count": 6,
      "outputs": []
    },
    {
      "cell_type": "code",
      "source": [
        "response = model.generate_content(\"Como tocar violão\")\n",
        "print(\"Resposta\", response.text)"
      ],
      "metadata": {
        "colab": {
          "base_uri": "https://localhost:8080/",
          "height": 679
        },
        "id": "MJnv-iS-0Flh",
        "outputId": "e2d1bfdd-8198-4f35-807c-175744c0e766"
      },
      "execution_count": 8,
      "outputs": [
        {
          "output_type": "stream",
          "name": "stdout",
          "text": [
            "Resposta **Passos Iniciais:**\n",
            "\n",
            "1. **Adquira um violão:** Escolha um violão que se adapte bem ao seu tamanho e estilo de jogo.\n",
            "2. **Aprenda a segurar o violão:** Segure-o no colo com o braço no centro. Use o polegar esquerdo para apoiar o braço e os outros dedos para pressionar as cordas.\n",
            "3. **Acorde e afine:** Aprenda a acordar o violão (ajustar a tensão das cordas) e afiná-lo usando um afinador ou um aplicativo.\n",
            "\n",
            "**Técnica de Dedilhação:**\n",
            "\n",
            "1. **Dedilhar de baixo para cima:** Use o polegar para tocar as cordas de baixo para cima em um movimento descendente.\n",
            "2. **Dedilhar de cima para baixo:** Use os dedos indicador, médio e anelar para dedilhar as cordas de cima para baixo em um movimento ascendente.\n",
            "3. **Padrões de dedilhado:** Pratique padrões de dedilhado comuns, como o básico \"D-D-D-D\" e o \"DU-DU-DU-DU\" alternado.\n",
            "\n",
            "**Técnica de mão de braço:**\n",
            "\n",
            "1. **Posições de mão:** Aprenda as diferentes posições de mão ao longo do braço do violão, permitindo que você toque diferentes notas.\n",
            "2. **Pressionar as cordas:** Pressione as cordas com os dedos da mão esquerda para criar diferentes notas. Use mais pressão para notas mais agudas e menos pressão para notas mais graves.\n",
            "3. **Barra:** Aprenda a formar barras com o dedo indicador para tocar acordes que requerem que várias cordas sejam pressionadas ao mesmo tempo.\n",
            "\n",
            "**Acordes:**\n",
            "\n",
            "1. **Acordes básicos:** Aprenda acordes básicos como C, G, D, Am e Em.\n",
            "2. **Progressões de acordes:** Pratique tocar progressões de acordes, que são sequências de acordes que soam bem juntos.\n",
            "3. **Inversões de acordes:** Aprenda a tocar inversões de acordes, que são variações de acordes que mudam a ordem das notas.\n",
            "\n",
            "**Escalas:**\n",
            "\n",
            "1. **Escalas básicas:** Aprenda escalas básicas como C maior, G maior e Am menor.\n",
            "2. **Padrões de escala:** Pratique tocar padrões de escala, que são sequências de notas que permitem que você se mova pelo braço do violão.\n",
            "3. **Arpejos:** Aprenda a tocar arpejos, que são acordes tocados uma nota de cada vez.\n",
            "\n",
            "**Praticar e Melhorar:**\n",
            "\n",
            "1. **Pratique regularmente:** Dedique um tempo diário para praticar violão.\n",
            "2. **Toque diferentes tipos de música:** Aprenda diferentes estilos musicais para expandir suas habilidades.\n",
            "3. **Grave a si mesmo:** Grave suas sessões de prática para identificar áreas de melhoria.\n",
            "4. **Encontre um professor:** Considerar aulas com um professor experiente pode acelerar seu progresso.\n",
            "5. **Seja paciente:** Aprender violão leva tempo e esforço. Não desanime se não vir o progresso imediatamente.\n"
          ]
        }
      ]
    }
  ]
}